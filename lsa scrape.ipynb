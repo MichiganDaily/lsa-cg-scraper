{
 "cells": [
  {
   "cell_type": "code",
   "execution_count": 1,
   "metadata": {},
   "outputs": [],
   "source": [
    "import requests\n",
    "from bs4 import BeautifulSoup"
   ]
  },
  {
   "cell_type": "code",
   "execution_count": 2,
   "metadata": {},
   "outputs": [],
   "source": [
    "r = requests.get(\"https://www.lsa.umich.edu/cg/cg_subjectlist.aspx?termArray=f_20_2310&cgtype=ug&allsections=true\")"
   ]
  },
  {
   "cell_type": "code",
   "execution_count": 4,
   "metadata": {},
   "outputs": [],
   "source": [
    "soup = BeautifulSoup(r.text)"
   ]
  },
  {
   "cell_type": "code",
   "execution_count": 11,
   "metadata": {},
   "outputs": [],
   "source": [
    "departments = [cell.text.strip() for cell in soup.select_one(\".table.table-striped.table-condensed\").select(\"tr > td:nth-child(1)\")]"
   ]
  },
  {
   "cell_type": "code",
   "execution_count": 87,
   "metadata": {},
   "outputs": [],
   "source": [
    "ug_course_sections = []"
   ]
  },
  {
   "cell_type": "code",
   "execution_count": 90,
   "metadata": {
    "collapsed": true
   },
   "outputs": [
    {
     "name": "stdout",
     "output_type": "stream",
     "text": [
      "AAS\n",
      "AERO\n",
      "AEROSP\n",
      "AES\n",
      "ALA\n",
      "AMCULT\n",
      "ANATOMY\n",
      "ANTHRARC\n",
      "ANTHRBIO\n",
      "ANTHRCUL\n",
      "APPPHYS\n",
      "ARABAM\n",
      "ARABIC\n",
      "ARCH\n",
      "ARMENIAN\n",
      "ARTDES\n",
      "ARTSADMN\n",
      "ASIAN\n",
      "ASIANLAN\n",
      "ASIANPAM\n",
      "ASTRO\n",
      "AUTO\n",
      "BA\n",
      "BCS\n",
      "BIOINF\n",
      "BIOLCHEM\n",
      "BIOLOGY\n",
      "BIOMEDE\n",
      "BIOPHYS\n",
      "BIOSTAT\n",
      "CATALAN\n",
      "CEE\n",
      "CHE\n",
      "CHEM\n",
      "CJS\n",
      "CLARCH\n",
      "CLCIV\n",
      "CLIMATE\n",
      "CMPLXSYS\n",
      "COGSCI\n",
      "COMM\n",
      "COMP\n",
      "COMPLIT\n",
      "CSP\n",
      "CZECH\n",
      "DANCE\n",
      "DATASCI\n",
      "DIGITAL\n",
      "DUTCH\n",
      "EARTH\n",
      "EAS\n",
      "ECON\n",
      "EDCURINS\n",
      "EDUC\n",
      "EEB\n",
      "EECS\n",
      "ELI\n",
      "ENGLISH\n",
      "ENGR\n",
      "ENS\n",
      "ENSCEN\n",
      "ENVIRON\n",
      "ES\n",
      "ESENG\n",
      "FRENCH\n",
      "FTVM\n",
      "GEOG\n",
      "GERMAN\n",
      "GREEK\n",
      "GREEKMOD\n",
      "GTBOOKS\n",
      "HEBREW\n",
      "HISTART\n",
      "HISTORY\n",
      "HONORS\n",
      "HS\n",
      "HUMGEN\n",
      "INSTHUM\n",
      "INTLSTD\n",
      "INTMED\n",
      "IOE\n",
      "ISLAM\n",
      "ITALIAN\n",
      "JAZZ\n",
      "JUDAIC\n",
      "KINESLGY\n",
      "KRSTD\n",
      "LACS\n",
      "LATIN\n",
      "LATINOAM\n",
      "LING\n",
      "LSWA\n",
      "MACROMOL\n",
      "MATH\n",
      "MATSCIE\n",
      "MCDB\n",
      "MECHENG\n",
      "MEDCHEM\n",
      "MELANG\n",
      "MEMS\n",
      "MENAS\n",
      "MFG\n",
      "MICRBIOL\n",
      "MIDEAST\n",
      "MILSCI\n",
      "MKT\n",
      "MOVESCI\n",
      "MUSEUMS\n",
      "MUSICOL\n",
      "MUSMETH\n",
      "MUSTHTRE\n",
      "NATIVEAM\n",
      "NAVARCH\n",
      "NAVSCI\n",
      "NERS\n",
      "NURS\n",
      "ORGSTUDY\n",
      "PAT\n",
      "PATH\n",
      "PERSIAN\n",
      "PHARMACY\n",
      "PHARMSCI\n",
      "PHIL\n",
      "PHRMACOL\n",
      "PHYSICS\n",
      "PHYSIOL\n",
      "PIBS\n",
      "POLISH\n",
      "POLSCI\n",
      "PORTUG\n",
      "PPE\n",
      "PSYCH\n",
      "PUBHLTH\n",
      "PUBPOL\n",
      "QMSS\n",
      "RCARTS\n",
      "RCASL\n",
      "RCCORE\n",
      "RCHUMS\n",
      "RCIDIV\n",
      "RCLANG\n",
      "RCMUSIC\n",
      "RCNSCI\n",
      "RCSSCI\n",
      "REEES\n",
      "RELIGION\n",
      "ROMLANG\n",
      "ROMLING\n",
      "RUSSIAN\n",
      "SCAND\n",
      "SEAS\n",
      "SI\n",
      "SLAVIC\n",
      "SOC\n",
      "SPACE\n",
      "SPANISH\n",
      "STATS\n",
      "STDABRD\n",
      "STRATEGY\n",
      "TCHNCLCM\n",
      "THEORY\n",
      "THTREMUS\n",
      "TO\n",
      "TURKISH\n",
      "UARTS\n",
      "UC\n",
      "UKR\n",
      "URP\n",
      "WGS\n",
      "WRITING\n",
      "YIDDISH\n"
     ]
    }
   ],
   "source": [
    "url = \"https://www.lsa.umich.edu/cg/cg_results.aspx?termArray=f_20_2310&cgtype=ug&department={}&allsections=true&show=500\"\n",
    "for dep in departments:\n",
    "    print(dep)\n",
    "    r = requests.get(url.format(dep))\n",
    "    soup = BeautifulSoup(r.text)\n",
    "    for result in soup.select(\".row.result\"):\n",
    "        dept, number, _, name = [a.strip() for a in result.select_one(\"font\").text.strip().split(\"\\r\\n\")]\n",
    "        section, term, credits, mode, instructor, _ = [a.text.strip() for a in result.select_one(\".bottompadding_main\").find_all(\"div\", recursive=False)]\n",
    "        section = \" \".join(section.split())\n",
    "        term = \" \".join(term.split()[1:])\n",
    "        credits = credits.split()[-1]\n",
    "        mode = mode.split()[-1]\n",
    "        instructor = \" \".join(instructor.split()[1:])\n",
    "        ug_course_sections.append({\n",
    "            \"dept\": dept,\n",
    "            \"number\": number,\n",
    "            \"name\": name,\n",
    "            \"section\": section,\n",
    "            \"term\": term,\n",
    "            \"credits\": credits,\n",
    "            \"mode\": mode,\n",
    "            \"instructor\": instructor,\n",
    "        })"
   ]
  },
  {
   "cell_type": "code",
   "execution_count": 91,
   "metadata": {},
   "outputs": [
    {
     "data": {
      "text/plain": [
       "2454"
      ]
     },
     "execution_count": 91,
     "metadata": {},
     "output_type": "execute_result"
    }
   ],
   "source": [
    "len(ug_course_sections)"
   ]
  },
  {
   "cell_type": "code",
   "execution_count": 92,
   "metadata": {},
   "outputs": [],
   "source": [
    "import pandas as pd"
   ]
  },
  {
   "cell_type": "code",
   "execution_count": 93,
   "metadata": {},
   "outputs": [],
   "source": [
    "df = pd.DataFrame(ug_course_sections)"
   ]
  },
  {
   "cell_type": "code",
   "execution_count": 98,
   "metadata": {},
   "outputs": [
    {
     "data": {
      "text/plain": [
       "Online    0.637734\n",
       "Person    0.232681\n",
       "Hybrid    0.129584\n",
       "Name: mode, dtype: float64"
      ]
     },
     "execution_count": 98,
     "metadata": {},
     "output_type": "execute_result"
    }
   ],
   "source": [
    "df[\"mode\"].value_counts() / len(df)"
   ]
  },
  {
   "cell_type": "code",
   "execution_count": 99,
   "metadata": {},
   "outputs": [],
   "source": [
    "df.to_csv(\"./undergrad_sections.csv\", index=False)"
   ]
  },
  {
   "cell_type": "code",
   "execution_count": null,
   "metadata": {},
   "outputs": [],
   "source": []
  }
 ],
 "metadata": {
  "kernelspec": {
   "display_name": "Python 3",
   "language": "python",
   "name": "python3"
  },
  "language_info": {
   "codemirror_mode": {
    "name": "ipython",
    "version": 3
   },
   "file_extension": ".py",
   "mimetype": "text/x-python",
   "name": "python",
   "nbconvert_exporter": "python",
   "pygments_lexer": "ipython3",
   "version": "3.7.7"
  }
 },
 "nbformat": 4,
 "nbformat_minor": 4
}
