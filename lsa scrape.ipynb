{
 "cells": [
  {
   "cell_type": "code",
   "execution_count": 1,
   "metadata": {},
   "outputs": [],
   "source": [
    "import requests\n",
    "from bs4 import BeautifulSoup"
   ]
  },
  {
   "cell_type": "code",
   "execution_count": 2,
   "metadata": {},
   "outputs": [],
   "source": [
    "r = requests.get(\"https://www.lsa.umich.edu/cg/cg_subjectlist.aspx?termArray=f_20_2310&cgtype=ug&allsections=true\")"
   ]
  },
  {
   "cell_type": "code",
   "execution_count": 4,
   "metadata": {},
   "outputs": [],
   "source": [
    "soup = BeautifulSoup(r.text)"
   ]
  },
  {
   "cell_type": "code",
   "execution_count": 11,
   "metadata": {},
   "outputs": [],
   "source": [
    "departments = [cell.text.strip() for cell in soup.select_one(\".table.table-striped.table-condensed\").select(\"tr > td:nth-child(1)\")]"
   ]
  },
  {
   "cell_type": "code",
   "execution_count": 122,
   "metadata": {},
   "outputs": [],
   "source": [
    "ug_course_sections = []"
   ]
  },
  {
   "cell_type": "code",
   "execution_count": 121,
   "metadata": {},
   "outputs": [
    {
     "data": {
      "text/plain": [
       "4"
      ]
     },
     "execution_count": 121,
     "metadata": {},
     "output_type": "execute_result"
    }
   ],
   "source": [
    "len(soup.select(\".row.result\") + soup.select(\".row.resultalt\"))"
   ]
  },
  {
   "cell_type": "code",
   "execution_count": 123,
   "metadata": {},
   "outputs": [
    {
     "name": "stdout",
     "output_type": "stream",
     "text": [
      "AAS\n",
      "AERO\n",
      "AEROSP\n",
      "AES\n",
      "ALA\n",
      "AMCULT\n",
      "ANATOMY\n",
      "ANTHRARC\n",
      "ANTHRBIO\n",
      "ANTHRCUL\n",
      "APPPHYS\n",
      "ARABAM\n",
      "ARABIC\n",
      "ARCH\n",
      "ARMENIAN\n",
      "ARTDES\n",
      "ARTSADMN\n",
      "ASIAN\n",
      "ASIANLAN\n",
      "ASIANPAM\n",
      "ASTRO\n",
      "AUTO\n",
      "BA\n",
      "BCS\n",
      "BIOINF\n",
      "BIOLCHEM\n",
      "BIOLOGY\n",
      "BIOMEDE\n",
      "BIOPHYS\n",
      "BIOSTAT\n",
      "CATALAN\n",
      "CEE\n",
      "CHE\n",
      "CHEM\n",
      "CJS\n",
      "CLARCH\n",
      "CLCIV\n",
      "CLIMATE\n",
      "CMPLXSYS\n",
      "COGSCI\n",
      "COMM\n",
      "COMP\n",
      "COMPLIT\n",
      "CSP\n",
      "CZECH\n",
      "DANCE\n",
      "DATASCI\n",
      "DIGITAL\n",
      "DUTCH\n",
      "EARTH\n",
      "EAS\n",
      "ECON\n",
      "EDCURINS\n",
      "EDUC\n",
      "EEB\n",
      "EECS\n",
      "ELI\n",
      "ENGLISH\n",
      "ENGR\n",
      "ENS\n",
      "ENSCEN\n",
      "ENVIRON\n",
      "ES\n",
      "ESENG\n",
      "FRENCH\n",
      "FTVM\n",
      "GEOG\n",
      "GERMAN\n",
      "GREEK\n",
      "GREEKMOD\n",
      "GTBOOKS\n",
      "HEBREW\n",
      "HISTART\n",
      "HISTORY\n",
      "HONORS\n",
      "HS\n",
      "HUMGEN\n",
      "INSTHUM\n",
      "INTLSTD\n",
      "INTMED\n",
      "IOE\n",
      "ISLAM\n",
      "ITALIAN\n",
      "JAZZ\n",
      "JUDAIC\n",
      "KINESLGY\n",
      "KRSTD\n",
      "LACS\n",
      "LATIN\n",
      "LATINOAM\n",
      "LING\n",
      "LSWA\n",
      "MACROMOL\n",
      "MATH\n",
      "MATSCIE\n",
      "MCDB\n",
      "MECHENG\n",
      "MEDCHEM\n",
      "MELANG\n",
      "MEMS\n",
      "MENAS\n",
      "MFG\n",
      "MICRBIOL\n",
      "MIDEAST\n",
      "MILSCI\n",
      "MKT\n",
      "MOVESCI\n",
      "MUSEUMS\n",
      "MUSICOL\n",
      "MUSMETH\n",
      "MUSTHTRE\n",
      "NATIVEAM\n",
      "NAVARCH\n",
      "NAVSCI\n",
      "NERS\n",
      "NURS\n",
      "ORGSTUDY\n",
      "PAT\n",
      "PATH\n",
      "PERSIAN\n",
      "PHARMACY\n",
      "PHARMSCI\n",
      "PHIL\n",
      "PHRMACOL\n",
      "PHYSICS\n",
      "PHYSIOL\n",
      "PIBS\n",
      "POLISH\n",
      "POLSCI\n",
      "PORTUG\n",
      "PPE\n",
      "PSYCH\n",
      "PUBHLTH\n",
      "PUBPOL\n",
      "QMSS\n",
      "RCARTS\n",
      "RCASL\n",
      "RCCORE\n",
      "RCHUMS\n",
      "RCIDIV\n",
      "RCLANG\n",
      "RCMUSIC\n",
      "RCNSCI\n",
      "RCSSCI\n",
      "REEES\n",
      "RELIGION\n",
      "ROMLANG\n",
      "ROMLING\n",
      "RUSSIAN\n",
      "SCAND\n",
      "SEAS\n",
      "SI\n",
      "SLAVIC\n",
      "SOC\n",
      "SPACE\n",
      "SPANISH\n",
      "STATS\n",
      "STDABRD\n",
      "STRATEGY\n",
      "TCHNCLCM\n",
      "THEORY\n",
      "THTREMUS\n",
      "TO\n",
      "TURKISH\n",
      "UARTS\n",
      "UC\n",
      "UKR\n",
      "URP\n",
      "WGS\n",
      "WRITING\n",
      "YIDDISH\n"
     ]
    }
   ],
   "source": [
    "url = \"https://www.lsa.umich.edu/cg/cg_results.aspx?termArray=f_20_2310&cgtype=ug&department={}&allsections=true&show=500\"\n",
    "for dep in departments:\n",
    "    print(dep)\n",
    "    r = requests.get(url.format(dep))\n",
    "    soup = BeautifulSoup(r.text)\n",
    "    for result in soup.select(\".row.result\") + soup.select(\".row.resultalt\"):\n",
    "        dept, number, _, name = [a.strip() for a in result.select_one(\"font\").text.strip().split(\"\\r\\n\")]\n",
    "        section, term, credits, mode, instructor, _ = [a.text.strip() for a in result.select_one(\".bottompadding_main\").find_all(\"div\", recursive=False)]\n",
    "        section = \" \".join(section.split())\n",
    "        term = \" \".join(term.split()[1:])\n",
    "        credits = credits.split()[-1]\n",
    "        mode = mode.split()[-1]\n",
    "        instructor = \" \".join(instructor.split()[1:])\n",
    "        ug_course_sections.append({\n",
    "            \"dept\": dept,\n",
    "            \"number\": number,\n",
    "            \"name\": name,\n",
    "            \"section\": section,\n",
    "            \"term\": term,\n",
    "            \"credits\": credits,\n",
    "            \"mode\": mode,\n",
    "            \"instructor\": instructor,\n",
    "        })"
   ]
  },
  {
   "cell_type": "code",
   "execution_count": 124,
   "metadata": {},
   "outputs": [
    {
     "data": {
      "text/plain": [
       "4743"
      ]
     },
     "execution_count": 124,
     "metadata": {},
     "output_type": "execute_result"
    }
   ],
   "source": [
    "len(ug_course_sections)"
   ]
  },
  {
   "cell_type": "code",
   "execution_count": 92,
   "metadata": {},
   "outputs": [],
   "source": [
    "import pandas as pd"
   ]
  },
  {
   "cell_type": "code",
   "execution_count": 125,
   "metadata": {},
   "outputs": [],
   "source": [
    "df = pd.DataFrame(ug_course_sections)"
   ]
  },
  {
   "cell_type": "code",
   "execution_count": 126,
   "metadata": {},
   "outputs": [
    {
     "data": {
      "text/plain": [
       "Online    0.643896\n",
       "Person    0.226861\n",
       "Hybrid    0.129243\n",
       "Name: mode, dtype: float64"
      ]
     },
     "execution_count": 126,
     "metadata": {},
     "output_type": "execute_result"
    }
   ],
   "source": [
    "df[\"mode\"].value_counts() / df[\"mode\"].count()"
   ]
  },
  {
   "cell_type": "code",
   "execution_count": 127,
   "metadata": {},
   "outputs": [
    {
     "data": {
      "text/html": [
       "<div>\n",
       "<style scoped>\n",
       "    .dataframe tbody tr th:only-of-type {\n",
       "        vertical-align: middle;\n",
       "    }\n",
       "\n",
       "    .dataframe tbody tr th {\n",
       "        vertical-align: top;\n",
       "    }\n",
       "\n",
       "    .dataframe thead th {\n",
       "        text-align: right;\n",
       "    }\n",
       "</style>\n",
       "<table border=\"1\" class=\"dataframe\">\n",
       "  <thead>\n",
       "    <tr style=\"text-align: right;\">\n",
       "      <th></th>\n",
       "      <th>dept</th>\n",
       "      <th>number</th>\n",
       "      <th>name</th>\n",
       "      <th>section</th>\n",
       "      <th>term</th>\n",
       "      <th>credits</th>\n",
       "      <th>mode</th>\n",
       "      <th>instructor</th>\n",
       "    </tr>\n",
       "  </thead>\n",
       "  <tbody>\n",
       "    <tr>\n",
       "      <th>1288</th>\n",
       "      <td>EECS</td>\n",
       "      <td>376</td>\n",
       "      <td>Foundations of Computer Science</td>\n",
       "      <td>Section 002 (LEC)</td>\n",
       "      <td>FA 2020</td>\n",
       "      <td>4</td>\n",
       "      <td>Online</td>\n",
       "      <td>Kamil,Amir</td>\n",
       "    </tr>\n",
       "    <tr>\n",
       "      <th>1289</th>\n",
       "      <td>EECS</td>\n",
       "      <td>376</td>\n",
       "      <td>Foundations of Computer Science</td>\n",
       "      <td>Section 004 (LEC)</td>\n",
       "      <td>FA 2020</td>\n",
       "      <td>4</td>\n",
       "      <td>Online</td>\n",
       "      <td>Volkovich,Ilya</td>\n",
       "    </tr>\n",
       "    <tr>\n",
       "      <th>1372</th>\n",
       "      <td>EECS</td>\n",
       "      <td>376</td>\n",
       "      <td>Foundations of Computer Science</td>\n",
       "      <td>Section 001 (LEC)</td>\n",
       "      <td>FA 2020</td>\n",
       "      <td>4</td>\n",
       "      <td>Online</td>\n",
       "      <td>Kamil,Amir</td>\n",
       "    </tr>\n",
       "    <tr>\n",
       "      <th>1373</th>\n",
       "      <td>EECS</td>\n",
       "      <td>376</td>\n",
       "      <td>Foundations of Computer Science</td>\n",
       "      <td>Section 003 (LEC)</td>\n",
       "      <td>FA 2020</td>\n",
       "      <td>4</td>\n",
       "      <td>Online</td>\n",
       "      <td>Volkovich,Ilya</td>\n",
       "    </tr>\n",
       "  </tbody>\n",
       "</table>\n",
       "</div>"
      ],
      "text/plain": [
       "      dept number                             name            section  \\\n",
       "1288  EECS    376  Foundations of Computer Science  Section 002 (LEC)   \n",
       "1289  EECS    376  Foundations of Computer Science  Section 004 (LEC)   \n",
       "1372  EECS    376  Foundations of Computer Science  Section 001 (LEC)   \n",
       "1373  EECS    376  Foundations of Computer Science  Section 003 (LEC)   \n",
       "\n",
       "         term credits    mode      instructor  \n",
       "1288  FA 2020       4  Online      Kamil,Amir  \n",
       "1289  FA 2020       4  Online  Volkovich,Ilya  \n",
       "1372  FA 2020       4  Online      Kamil,Amir  \n",
       "1373  FA 2020       4  Online  Volkovich,Ilya  "
      ]
     },
     "execution_count": 127,
     "metadata": {},
     "output_type": "execute_result"
    }
   ],
   "source": [
    "df[(df.dept == \"EECS\") & (df.number == \"376\")]"
   ]
  },
  {
   "cell_type": "code",
   "execution_count": 128,
   "metadata": {},
   "outputs": [
    {
     "data": {
      "text/plain": [
       "dept     mode  \n",
       "AAS      Online    0.442857\n",
       "         Person    0.328571\n",
       "         Hybrid    0.228571\n",
       "AERO     Hybrid    0.750000\n",
       "         Online    0.250000\n",
       "                     ...   \n",
       "WGS      Hybrid    0.083333\n",
       "WRITING  Online    0.833333\n",
       "         Hybrid    0.166667\n",
       "YIDDISH  Online    0.500000\n",
       "         Person    0.500000\n",
       "Name: mode, Length: 402, dtype: float64"
      ]
     },
     "execution_count": 128,
     "metadata": {},
     "output_type": "execute_result"
    }
   ],
   "source": [
    "df.groupby(\"dept\")[\"mode\"].value_counts() / df.groupby(\"dept\")[\"mode\"].count()"
   ]
  },
  {
   "cell_type": "code",
   "execution_count": 129,
   "metadata": {},
   "outputs": [
    {
     "data": {
      "text/plain": [
       "THTREMUS    137\n",
       "STDABRD      86\n",
       "PSYCH        58\n",
       "ENVIRON      49\n",
       "ENGLISH      34\n",
       "GERMAN       25\n",
       "ARTDES       25\n",
       "CHEM         23\n",
       "AAS          23\n",
       "BIOLOGY      20\n",
       "Name: dept, dtype: int64"
      ]
     },
     "execution_count": 129,
     "metadata": {},
     "output_type": "execute_result"
    }
   ],
   "source": [
    "df.groupby(\"mode\").get_group(\"Person\").dept.value_counts()[:10]"
   ]
  },
  {
   "cell_type": "code",
   "execution_count": 108,
   "metadata": {},
   "outputs": [
    {
     "data": {
      "text/plain": [
       "ENGLISH     22\n",
       "MATH        15\n",
       "AAS         14\n",
       "FTVM        13\n",
       "MECHENG     11\n",
       "HISTORY     10\n",
       "ASIANLAN    10\n",
       "RCLANG      10\n",
       "EECS         9\n",
       "EARTH        8\n",
       "Name: dept, dtype: int64"
      ]
     },
     "execution_count": 108,
     "metadata": {},
     "output_type": "execute_result"
    }
   ],
   "source": [
    "df.groupby(\"mode\").get_group(\"Hybrid\").dept.value_counts()[:10]"
   ]
  },
  {
   "cell_type": "code",
   "execution_count": null,
   "metadata": {},
   "outputs": [],
   "source": []
  }
 ],
 "metadata": {
  "kernelspec": {
   "display_name": "Python 3",
   "language": "python",
   "name": "python3"
  },
  "language_info": {
   "codemirror_mode": {
    "name": "ipython",
    "version": 3
   },
   "file_extension": ".py",
   "mimetype": "text/x-python",
   "name": "python",
   "nbconvert_exporter": "python",
   "pygments_lexer": "ipython3",
   "version": "3.7.7"
  }
 },
 "nbformat": 4,
 "nbformat_minor": 4
}
