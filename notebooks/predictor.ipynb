{
 "cells": [
  {
   "cell_type": "code",
   "execution_count": 24,
   "id": "811ce08c",
   "metadata": {},
   "outputs": [],
   "source": [
    "import pandas as pd\n",
    "import math\n",
    "from datetime import datetime, timedelta"
   ]
  },
  {
   "cell_type": "code",
   "execution_count": 25,
   "id": "38ef7649",
   "metadata": {},
   "outputs": [
    {
     "data": {
      "text/plain": [
       "Index(['Capacity', 'Available', 'Waitlist', 'PercentAvailable', 'Undergrad',\n",
       "       'Dept', 'CourseNum', 'StudyAbroad'],\n",
       "      dtype='object')"
      ]
     },
     "execution_count": 25,
     "metadata": {},
     "output_type": "execute_result"
    }
   ],
   "source": [
    "Overview = pd.read_csv('overview.csv')\n",
    "Overview.columns"
   ]
  },
  {
   "cell_type": "code",
   "execution_count": 26,
   "id": "0619c0ee",
   "metadata": {},
   "outputs": [
    {
     "data": {
      "text/html": [
       "<div>\n",
       "<style scoped>\n",
       "    .dataframe tbody tr th:only-of-type {\n",
       "        vertical-align: middle;\n",
       "    }\n",
       "\n",
       "    .dataframe tbody tr th {\n",
       "        vertical-align: top;\n",
       "    }\n",
       "\n",
       "    .dataframe thead th {\n",
       "        text-align: right;\n",
       "    }\n",
       "</style>\n",
       "<table border=\"1\" class=\"dataframe\">\n",
       "  <thead>\n",
       "    <tr style=\"text-align: right;\">\n",
       "      <th></th>\n",
       "      <th>Unnamed: 0</th>\n",
       "      <th>Section</th>\n",
       "      <th>Instruction Mode</th>\n",
       "      <th>Class No</th>\n",
       "      <th>Enroll Stat</th>\n",
       "      <th>Open Seats</th>\n",
       "      <th>Wait List</th>\n",
       "      <th>Hour</th>\n",
       "    </tr>\n",
       "  </thead>\n",
       "  <tbody>\n",
       "    <tr>\n",
       "      <th>0</th>\n",
       "      <td>3546</td>\n",
       "      <td>001 (LEC)</td>\n",
       "      <td>In Person</td>\n",
       "      <td>26932</td>\n",
       "      <td>Open</td>\n",
       "      <td>120</td>\n",
       "      <td>-1</td>\n",
       "      <td>2021-11-15 06:00:00</td>\n",
       "    </tr>\n",
       "    <tr>\n",
       "      <th>1</th>\n",
       "      <td>3546</td>\n",
       "      <td>002 (LEC)</td>\n",
       "      <td>In Person</td>\n",
       "      <td>15919</td>\n",
       "      <td>Open</td>\n",
       "      <td>4</td>\n",
       "      <td>10</td>\n",
       "      <td>2021-12-09 19:00:00</td>\n",
       "    </tr>\n",
       "    <tr>\n",
       "      <th>2</th>\n",
       "      <td>3547</td>\n",
       "      <td>002 (LEC)</td>\n",
       "      <td>In Person</td>\n",
       "      <td>24565</td>\n",
       "      <td>Open</td>\n",
       "      <td>120</td>\n",
       "      <td>-1</td>\n",
       "      <td>2021-11-15 06:00:00</td>\n",
       "    </tr>\n",
       "    <tr>\n",
       "      <th>3</th>\n",
       "      <td>3547</td>\n",
       "      <td>010 (DIS)</td>\n",
       "      <td>In Person</td>\n",
       "      <td>15922</td>\n",
       "      <td>Closed</td>\n",
       "      <td>0</td>\n",
       "      <td>3</td>\n",
       "      <td>2021-12-09 19:00:00</td>\n",
       "    </tr>\n",
       "    <tr>\n",
       "      <th>4</th>\n",
       "      <td>3548</td>\n",
       "      <td>011 (DIS)</td>\n",
       "      <td>In Person</td>\n",
       "      <td>22551</td>\n",
       "      <td>Open</td>\n",
       "      <td>40</td>\n",
       "      <td>-1</td>\n",
       "      <td>2021-11-15 06:00:00</td>\n",
       "    </tr>\n",
       "    <tr>\n",
       "      <th>...</th>\n",
       "      <td>...</td>\n",
       "      <td>...</td>\n",
       "      <td>...</td>\n",
       "      <td>...</td>\n",
       "      <td>...</td>\n",
       "      <td>...</td>\n",
       "      <td>...</td>\n",
       "      <td>...</td>\n",
       "    </tr>\n",
       "    <tr>\n",
       "      <th>4123</th>\n",
       "      <td>5328</td>\n",
       "      <td>014 (DIS)</td>\n",
       "      <td>In Person</td>\n",
       "      <td>26935</td>\n",
       "      <td>Closed</td>\n",
       "      <td>0</td>\n",
       "      <td>13</td>\n",
       "      <td>2021-12-09 19:00:00</td>\n",
       "    </tr>\n",
       "    <tr>\n",
       "      <th>4124</th>\n",
       "      <td>5329</td>\n",
       "      <td>015 (DIS)</td>\n",
       "      <td>In Person</td>\n",
       "      <td>18524</td>\n",
       "      <td>Open</td>\n",
       "      <td>25</td>\n",
       "      <td>-1</td>\n",
       "      <td>2021-11-15 06:00:00</td>\n",
       "    </tr>\n",
       "    <tr>\n",
       "      <th>4125</th>\n",
       "      <td>5329</td>\n",
       "      <td>015 (DIS)</td>\n",
       "      <td>In Person</td>\n",
       "      <td>26936</td>\n",
       "      <td>Closed</td>\n",
       "      <td>0</td>\n",
       "      <td>13</td>\n",
       "      <td>2021-12-09 19:00:00</td>\n",
       "    </tr>\n",
       "    <tr>\n",
       "      <th>4126</th>\n",
       "      <td>5330</td>\n",
       "      <td>016 (DIS)</td>\n",
       "      <td>In Person</td>\n",
       "      <td>18504</td>\n",
       "      <td>Open</td>\n",
       "      <td>25</td>\n",
       "      <td>-1</td>\n",
       "      <td>2021-11-15 06:00:00</td>\n",
       "    </tr>\n",
       "    <tr>\n",
       "      <th>4127</th>\n",
       "      <td>5330</td>\n",
       "      <td>016 (DIS)</td>\n",
       "      <td>In Person</td>\n",
       "      <td>26937</td>\n",
       "      <td>Closed</td>\n",
       "      <td>0</td>\n",
       "      <td>13</td>\n",
       "      <td>2021-12-09 19:00:00</td>\n",
       "    </tr>\n",
       "  </tbody>\n",
       "</table>\n",
       "<p>4128 rows × 8 columns</p>\n",
       "</div>"
      ],
      "text/plain": [
       "      Unnamed: 0    Section Instruction Mode  Class No Enroll Stat  \\\n",
       "0           3546  001 (LEC)        In Person     26932        Open   \n",
       "1           3546  002 (LEC)        In Person     15919        Open   \n",
       "2           3547  002 (LEC)        In Person     24565        Open   \n",
       "3           3547  010 (DIS)        In Person     15922      Closed   \n",
       "4           3548  011 (DIS)        In Person     22551        Open   \n",
       "...          ...        ...              ...       ...         ...   \n",
       "4123        5328  014 (DIS)        In Person     26935      Closed   \n",
       "4124        5329  015 (DIS)        In Person     18524        Open   \n",
       "4125        5329  015 (DIS)        In Person     26936      Closed   \n",
       "4126        5330  016 (DIS)        In Person     18504        Open   \n",
       "4127        5330  016 (DIS)        In Person     26937      Closed   \n",
       "\n",
       "      Open Seats  Wait List                 Hour  \n",
       "0            120         -1  2021-11-15 06:00:00  \n",
       "1              4         10  2021-12-09 19:00:00  \n",
       "2            120         -1  2021-11-15 06:00:00  \n",
       "3              0          3  2021-12-09 19:00:00  \n",
       "4             40         -1  2021-11-15 06:00:00  \n",
       "...          ...        ...                  ...  \n",
       "4123           0         13  2021-12-09 19:00:00  \n",
       "4124          25         -1  2021-11-15 06:00:00  \n",
       "4125           0         13  2021-12-09 19:00:00  \n",
       "4126          25         -1  2021-11-15 06:00:00  \n",
       "4127           0         13  2021-12-09 19:00:00  \n",
       "\n",
       "[4128 rows x 8 columns]"
      ]
     },
     "execution_count": 26,
     "metadata": {},
     "output_type": "execute_result"
    }
   ],
   "source": [
    "data = pd.read_csv(\"eecs-445.csv\")\n",
    "data"
   ]
  },
  {
   "cell_type": "code",
   "execution_count": 27,
   "id": "74e60ce0",
   "metadata": {},
   "outputs": [],
   "source": [
    "# there's a chance this would be faster if we just \n",
    "    # calculated all past rates for all classes one time\n",
    "    # instead of everytime the scrapper ran\n",
    "# also I'm dividing by the number of days from last time here (25)\n",
    "# Separating rates thoughts\n",
    "    # I'd probably add a time parameter then calculate days since the registration opened\n",
    "    # And then find the rate for some period around that day (consider egde cases)\n",
    "    # predicted_rate() would also need a time parameter\n",
    "    # predicted_final_day would probably need a loop to working back thru predicted_rate() outputs\n",
    "        # from the 25th day or something until it hits a predicted postive \"Open Seats\"\n",
    "def past_rate(sectionNumber, pastData) :\n",
    "    classData = pastData[pastData['Class No']==sectionNumber]\n",
    "    # this might be faster if we only sorted this once\n",
    "    classData = classData.sort_values(by=['Hour'], ascending=False).reset_index(drop=True)\n",
    "    datetime.strptime('2021-12-09 19:00:00', '%Y-%m-%d %H:%M:%S')\n",
    "    for i in range(0, len(classData) - 1) :\n",
    "        days = 25\n",
    "        if classData['Open Seats'][i] > 0 :\n",
    "            days = (datetime.strptime(classData['Hour'][i], '%Y-%m-%d %H:%M:%S') - \n",
    "                                     datetime.strptime(classData['Hour'][len(classData) - 1], '%Y-%m-%d %H:%M:%S')).days\n",
    "        if days == 0 : days = 25\n",
    "        return (classData['Open Seats'].agg('max') - classData['Open Seats'][i]) / days\n",
    "    return 0\n",
    "    "
   ]
  },
  {
   "cell_type": "code",
   "execution_count": 28,
   "id": "4206fdfb",
   "metadata": {},
   "outputs": [
    {
     "data": {
      "text/plain": [
       "1.6"
      ]
     },
     "execution_count": 28,
     "metadata": {},
     "output_type": "execute_result"
    }
   ],
   "source": [
    "past_rate(26935, data)"
   ]
  },
  {
   "cell_type": "code",
   "execution_count": 29,
   "id": "1e957633",
   "metadata": {},
   "outputs": [],
   "source": [
    "def current_rate(sectionNumber, currentData) :\n",
    "    # maybe make recent current rate ??\n",
    "    classData = currentData[currentData['Class No']==sectionNumber].sort_values(by=['Hour'], ascending=False).reset_index(drop=True)\n",
    "    daysList = []\n",
    "    for time in currentData['Hour']:\n",
    "        daysList.append(time[0:10])\n",
    "    days = pd.Series(daysList).unique()\n",
    "    return (classData['Open Seats'].agg('max') - classData['Open Seats'][0]) / len(days)"
   ]
  },
  {
   "cell_type": "code",
   "execution_count": 40,
   "id": "a16e7359",
   "metadata": {},
   "outputs": [
    {
     "data": {
      "text/plain": [
       "0.0"
      ]
     },
     "execution_count": 40,
     "metadata": {},
     "output_type": "execute_result"
    }
   ],
   "source": [
    "current_rate(18523, data)"
   ]
  },
  {
   "cell_type": "code",
   "execution_count": 44,
   "id": "90180629",
   "metadata": {},
   "outputs": [
    {
     "data": {
      "text/html": [
       "<div>\n",
       "<style scoped>\n",
       "    .dataframe tbody tr th:only-of-type {\n",
       "        vertical-align: middle;\n",
       "    }\n",
       "\n",
       "    .dataframe tbody tr th {\n",
       "        vertical-align: top;\n",
       "    }\n",
       "\n",
       "    .dataframe thead th {\n",
       "        text-align: right;\n",
       "    }\n",
       "</style>\n",
       "<table border=\"1\" class=\"dataframe\">\n",
       "  <thead>\n",
       "    <tr style=\"text-align: right;\">\n",
       "      <th></th>\n",
       "      <th>Unnamed: 0</th>\n",
       "      <th>Section</th>\n",
       "      <th>Instruction Mode</th>\n",
       "      <th>Class No</th>\n",
       "      <th>Enroll Stat</th>\n",
       "      <th>Open Seats</th>\n",
       "      <th>Wait List</th>\n",
       "      <th>Hour</th>\n",
       "    </tr>\n",
       "  </thead>\n",
       "  <tbody>\n",
       "    <tr>\n",
       "      <th>4118</th>\n",
       "      <td>5326</td>\n",
       "      <td>012 (DIS)</td>\n",
       "      <td>In Person</td>\n",
       "      <td>18523</td>\n",
       "      <td>Open</td>\n",
       "      <td>25</td>\n",
       "      <td>-1</td>\n",
       "      <td>2021-11-15 06:00:00</td>\n",
       "    </tr>\n",
       "  </tbody>\n",
       "</table>\n",
       "</div>"
      ],
      "text/plain": [
       "      Unnamed: 0    Section Instruction Mode  Class No Enroll Stat  \\\n",
       "4118        5326  012 (DIS)        In Person     18523        Open   \n",
       "\n",
       "      Open Seats  Wait List                 Hour  \n",
       "4118          25         -1  2021-11-15 06:00:00  "
      ]
     },
     "execution_count": 44,
     "metadata": {},
     "output_type": "execute_result"
    }
   ],
   "source": [
    "data[data['Class No']==18523]"
   ]
  },
  {
   "cell_type": "code",
   "execution_count": 31,
   "id": "55efa39b",
   "metadata": {},
   "outputs": [],
   "source": [
    "def predicted_rate(sectionNumber, pastData, currentData) :\n",
    "  # idk if this formula actually makes sense but meh\n",
    "  daysList = []\n",
    "  for time in currentData['Hour']:\n",
    "      daysList.append(time[0:10])\n",
    "  days = pd.Series(daysList).unique()\n",
    "  # potential formula to make current rate count more over time\n",
    "      # this formula definity won't work for incoming freshman but we can't really predict\n",
    "#     return (current_rate(sectionNumber, currentData)*15 / 25) + (past_rate(sectionNumber, pastData)*(25 - 15) / 25)\n",
    "  return (current_rate(sectionNumber, currentData)*len(days) / 25) + (past_rate(sectionNumber, pastData)*(25 - len(days)) / 25)"
   ]
  },
  {
   "cell_type": "code",
   "execution_count": 39,
   "id": "5148a3f8",
   "metadata": {},
   "outputs": [
    {
     "data": {
      "text/plain": [
       "0.0"
      ]
     },
     "execution_count": 39,
     "metadata": {},
     "output_type": "execute_result"
    }
   ],
   "source": [
    "predicted_rate(18523, data, data)"
   ]
  },
  {
   "cell_type": "code",
   "execution_count": 33,
   "id": "971ca9c4",
   "metadata": {},
   "outputs": [],
   "source": [
    "def predicted_final_day(sectionNumber, pastData, currentData) :    \n",
    "    classData = currentData[currentData['Class No']==sectionNumber]\n",
    "    classData = classData.sort_values(by=['Hour'], ascending=False).reset_index(drop=True)\n",
    "    rate = predicted_rate(sectionNumber, pastData, currentData)\n",
    "    daysList = []\n",
    "    for time in currentData['Hour'] :\n",
    "        daysList.append(time[0:10])\n",
    "    days = pd.Series(daysList).unique()\n",
    "    if rate > 0 :\n",
    "        days_till_closing = classData[\"Open Seats\"].agg('max') / rate\n",
    "    else :\n",
    "        days_till_closing = 0\n",
    "    finalDay = datetime.strptime(days[0], '%Y-%m-%d') + timedelta(math.floor(days_till_closing))\n",
    "    return finalDay.strftime('%Y-%m-%d')\n",
    "#     return days_till_closing"
   ]
  },
  {
   "cell_type": "code",
   "execution_count": 38,
   "id": "2c965e21",
   "metadata": {},
   "outputs": [
    {
     "data": {
      "text/plain": [
       "'2021-11-15'"
      ]
     },
     "execution_count": 38,
     "metadata": {},
     "output_type": "execute_result"
    }
   ],
   "source": [
    "predicted_final_day(18523, data, data)"
   ]
  },
  {
   "cell_type": "code",
   "execution_count": 35,
   "id": "0668d98a",
   "metadata": {},
   "outputs": [],
   "source": [
    "# # Scraper output\n",
    "# os.makedirs(\"./output/\", exist_ok=True)\n",
    "#     for (course, listing) in df.groupby(\"Course\").groups.items():\n",
    "#         df.loc[\n",
    "#             listing,\n",
    "#             [\n",
    "#                 \"Section\",\n",
    "#                 \"Instruction Mode\",\n",
    "#                 \"Class No\",\n",
    "#                 \"Enroll Stat\",\n",
    "#                 \"Open Seats\",\n",
    "#                 \"Wait List\",\n",
    "#                 \"Hour\",\n",
    "#             ],\n",
    "#         ].to_csv(f\"./output/{slugify(course)}.csv\")\n",
    "def output(pastData, currentData) :\n",
    "    predictedFinalDays = []\n",
    "    for section in currentData['Class No'] :\n",
    "        predictedFinalDays.append([section, predicted_final_day(section, pastData, currentData)])\n",
    "    predictedFinalDaysDF = pd.DataFrame(predictedFinalDays)\n",
    "    predictedFinalDaysDF.columns = ['Class No', 'Predicted Final Day']\n",
    "    classInfoDF = pd.DataFrame(currentData[[\"Section\", \"Instruction Mode\", \"Class No\", \"Enroll Stat\"]])\n",
    "    return pd.merge(predictedFinalDaysDF, classInfoDF, on='Class No',how='outer')\n",
    "    # Other Ideas:\n",
    "    # we may wanna add an all zero \"waitlist\" column or something to classInfo idk\n",
    "    # for intermediate values ? :\n",
    "    # loop through remaining hours : \n",
    "        # loop through \"Class No\", calculate remaining using above fcns \"Open Seats\"\n",
    "        # join classInfo to the open seats calculation result\n",
    "        # export"
   ]
  },
  {
   "cell_type": "code",
   "execution_count": 36,
   "id": "99387d14",
   "metadata": {},
   "outputs": [
    {
     "data": {
      "text/html": [
       "<div>\n",
       "<style scoped>\n",
       "    .dataframe tbody tr th:only-of-type {\n",
       "        vertical-align: middle;\n",
       "    }\n",
       "\n",
       "    .dataframe tbody tr th {\n",
       "        vertical-align: top;\n",
       "    }\n",
       "\n",
       "    .dataframe thead th {\n",
       "        text-align: right;\n",
       "    }\n",
       "</style>\n",
       "<table border=\"1\" class=\"dataframe\">\n",
       "  <thead>\n",
       "    <tr style=\"text-align: right;\">\n",
       "      <th></th>\n",
       "      <th>Class No</th>\n",
       "      <th>Predicted Final Day</th>\n",
       "      <th>Section</th>\n",
       "      <th>Instruction Mode</th>\n",
       "      <th>Enroll Stat</th>\n",
       "    </tr>\n",
       "  </thead>\n",
       "  <tbody>\n",
       "    <tr>\n",
       "      <th>0</th>\n",
       "      <td>26932</td>\n",
       "      <td>2021-12-11</td>\n",
       "      <td>001 (LEC)</td>\n",
       "      <td>In Person</td>\n",
       "      <td>Open</td>\n",
       "    </tr>\n",
       "    <tr>\n",
       "      <th>1</th>\n",
       "      <td>26932</td>\n",
       "      <td>2021-12-11</td>\n",
       "      <td>001 (LEC)</td>\n",
       "      <td>In Person</td>\n",
       "      <td>Open</td>\n",
       "    </tr>\n",
       "    <tr>\n",
       "      <th>2</th>\n",
       "      <td>26932</td>\n",
       "      <td>2021-12-11</td>\n",
       "      <td>001 (LEC)</td>\n",
       "      <td>In Person</td>\n",
       "      <td>Open</td>\n",
       "    </tr>\n",
       "    <tr>\n",
       "      <th>3</th>\n",
       "      <td>26932</td>\n",
       "      <td>2021-12-11</td>\n",
       "      <td>001 (LEC)</td>\n",
       "      <td>In Person</td>\n",
       "      <td>Open</td>\n",
       "    </tr>\n",
       "    <tr>\n",
       "      <th>4</th>\n",
       "      <td>26932</td>\n",
       "      <td>2021-12-11</td>\n",
       "      <td>001 (LEC)</td>\n",
       "      <td>In Person</td>\n",
       "      <td>Open</td>\n",
       "    </tr>\n",
       "    <tr>\n",
       "      <th>...</th>\n",
       "      <td>...</td>\n",
       "      <td>...</td>\n",
       "      <td>...</td>\n",
       "      <td>...</td>\n",
       "      <td>...</td>\n",
       "    </tr>\n",
       "    <tr>\n",
       "      <th>2113579</th>\n",
       "      <td>18523</td>\n",
       "      <td>2021-11-15</td>\n",
       "      <td>012 (DIS)</td>\n",
       "      <td>In Person</td>\n",
       "      <td>Open</td>\n",
       "    </tr>\n",
       "    <tr>\n",
       "      <th>2113580</th>\n",
       "      <td>18501</td>\n",
       "      <td>2021-11-15</td>\n",
       "      <td>013 (DIS)</td>\n",
       "      <td>In Person</td>\n",
       "      <td>Open</td>\n",
       "    </tr>\n",
       "    <tr>\n",
       "      <th>2113581</th>\n",
       "      <td>18502</td>\n",
       "      <td>2021-11-15</td>\n",
       "      <td>014 (DIS)</td>\n",
       "      <td>In Person</td>\n",
       "      <td>Open</td>\n",
       "    </tr>\n",
       "    <tr>\n",
       "      <th>2113582</th>\n",
       "      <td>18524</td>\n",
       "      <td>2021-11-15</td>\n",
       "      <td>015 (DIS)</td>\n",
       "      <td>In Person</td>\n",
       "      <td>Open</td>\n",
       "    </tr>\n",
       "    <tr>\n",
       "      <th>2113583</th>\n",
       "      <td>18504</td>\n",
       "      <td>2021-11-15</td>\n",
       "      <td>016 (DIS)</td>\n",
       "      <td>In Person</td>\n",
       "      <td>Open</td>\n",
       "    </tr>\n",
       "  </tbody>\n",
       "</table>\n",
       "<p>2113584 rows × 5 columns</p>\n",
       "</div>"
      ],
      "text/plain": [
       "         Class No Predicted Final Day    Section Instruction Mode Enroll Stat\n",
       "0           26932          2021-12-11  001 (LEC)        In Person        Open\n",
       "1           26932          2021-12-11  001 (LEC)        In Person        Open\n",
       "2           26932          2021-12-11  001 (LEC)        In Person        Open\n",
       "3           26932          2021-12-11  001 (LEC)        In Person        Open\n",
       "4           26932          2021-12-11  001 (LEC)        In Person        Open\n",
       "...           ...                 ...        ...              ...         ...\n",
       "2113579     18523          2021-11-15  012 (DIS)        In Person        Open\n",
       "2113580     18501          2021-11-15  013 (DIS)        In Person        Open\n",
       "2113581     18502          2021-11-15  014 (DIS)        In Person        Open\n",
       "2113582     18524          2021-11-15  015 (DIS)        In Person        Open\n",
       "2113583     18504          2021-11-15  016 (DIS)        In Person        Open\n",
       "\n",
       "[2113584 rows x 5 columns]"
      ]
     },
     "execution_count": 36,
     "metadata": {},
     "output_type": "execute_result"
    }
   ],
   "source": [
    "output(data, data)"
   ]
  },
  {
   "cell_type": "code",
   "execution_count": 37,
   "id": "2b66d27b",
   "metadata": {},
   "outputs": [
    {
     "data": {
      "text/plain": [
       "0"
      ]
     },
     "execution_count": 37,
     "metadata": {},
     "output_type": "execute_result"
    }
   ],
   "source": [
    "date1 = datetime.strptime('2021-12-09 20:00:00', '%Y-%m-%d %H:%M:%S')\n",
    "date2 = datetime.strptime('2021-12-09 19:00:00', '%Y-%m-%d %H:%M:%S')\n",
    "(date1 - date2).days"
   ]
  }
 ],
 "metadata": {
  "kernelspec": {
   "display_name": "Python 3.7.10 ('venv': venv)",
   "language": "python",
   "name": "python3"
  },
  "language_info": {
   "codemirror_mode": {
    "name": "ipython",
    "version": 3
   },
   "file_extension": ".py",
   "mimetype": "text/x-python",
   "name": "python",
   "nbconvert_exporter": "python",
   "pygments_lexer": "ipython3",
   "version": "3.7.10"
  },
  "vscode": {
   "interpreter": {
    "hash": "29edad0a1969b166bc738f63c8d3a076e392a030e39ef13490ed2294c0b5fa04"
   }
  }
 },
 "nbformat": 4,
 "nbformat_minor": 5
}
