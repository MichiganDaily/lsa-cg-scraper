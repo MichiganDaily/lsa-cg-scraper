{
 "cells": [
  {
   "cell_type": "code",
   "execution_count": 3,
   "id": "85026bff",
   "metadata": {},
   "outputs": [],
   "source": [
    "import pandas as pd\n",
    "import seaborn as sns"
   ]
  },
  {
   "cell_type": "code",
   "execution_count": 4,
   "id": "d65f6302",
   "metadata": {},
   "outputs": [
    {
     "data": {
      "text/html": [
       "<div>\n",
       "<style scoped>\n",
       "    .dataframe tbody tr th:only-of-type {\n",
       "        vertical-align: middle;\n",
       "    }\n",
       "\n",
       "    .dataframe tbody tr th {\n",
       "        vertical-align: top;\n",
       "    }\n",
       "\n",
       "    .dataframe thead th {\n",
       "        text-align: right;\n",
       "    }\n",
       "</style>\n",
       "<table border=\"1\" class=\"dataframe\">\n",
       "  <thead>\n",
       "    <tr style=\"text-align: right;\">\n",
       "      <th></th>\n",
       "      <th>Unnamed: 0</th>\n",
       "      <th>Section</th>\n",
       "      <th>Instruction Mode</th>\n",
       "      <th>Class No</th>\n",
       "      <th>Enroll Stat</th>\n",
       "      <th>Open Seats</th>\n",
       "      <th>Wait List</th>\n",
       "      <th>Hour</th>\n",
       "    </tr>\n",
       "  </thead>\n",
       "  <tbody>\n",
       "    <tr>\n",
       "      <th>0</th>\n",
       "      <td>3546</td>\n",
       "      <td>001 (LEC)</td>\n",
       "      <td>In Person</td>\n",
       "      <td>26932</td>\n",
       "      <td>Open</td>\n",
       "      <td>120</td>\n",
       "      <td>-1</td>\n",
       "      <td>2021-11-15 06:00:00</td>\n",
       "    </tr>\n",
       "    <tr>\n",
       "      <th>1</th>\n",
       "      <td>3546</td>\n",
       "      <td>002 (LEC)</td>\n",
       "      <td>In Person</td>\n",
       "      <td>15919</td>\n",
       "      <td>Open</td>\n",
       "      <td>4</td>\n",
       "      <td>10</td>\n",
       "      <td>2021-12-09 19:00:00</td>\n",
       "    </tr>\n",
       "    <tr>\n",
       "      <th>2</th>\n",
       "      <td>3547</td>\n",
       "      <td>002 (LEC)</td>\n",
       "      <td>In Person</td>\n",
       "      <td>24565</td>\n",
       "      <td>Open</td>\n",
       "      <td>120</td>\n",
       "      <td>-1</td>\n",
       "      <td>2021-11-15 06:00:00</td>\n",
       "    </tr>\n",
       "    <tr>\n",
       "      <th>3</th>\n",
       "      <td>3547</td>\n",
       "      <td>010 (DIS)</td>\n",
       "      <td>In Person</td>\n",
       "      <td>15922</td>\n",
       "      <td>Closed</td>\n",
       "      <td>0</td>\n",
       "      <td>3</td>\n",
       "      <td>2021-12-09 19:00:00</td>\n",
       "    </tr>\n",
       "    <tr>\n",
       "      <th>4</th>\n",
       "      <td>3548</td>\n",
       "      <td>011 (DIS)</td>\n",
       "      <td>In Person</td>\n",
       "      <td>22551</td>\n",
       "      <td>Open</td>\n",
       "      <td>40</td>\n",
       "      <td>-1</td>\n",
       "      <td>2021-11-15 06:00:00</td>\n",
       "    </tr>\n",
       "    <tr>\n",
       "      <th>...</th>\n",
       "      <td>...</td>\n",
       "      <td>...</td>\n",
       "      <td>...</td>\n",
       "      <td>...</td>\n",
       "      <td>...</td>\n",
       "      <td>...</td>\n",
       "      <td>...</td>\n",
       "      <td>...</td>\n",
       "    </tr>\n",
       "    <tr>\n",
       "      <th>4123</th>\n",
       "      <td>5328</td>\n",
       "      <td>014 (DIS)</td>\n",
       "      <td>In Person</td>\n",
       "      <td>26935</td>\n",
       "      <td>Closed</td>\n",
       "      <td>0</td>\n",
       "      <td>13</td>\n",
       "      <td>2021-12-09 19:00:00</td>\n",
       "    </tr>\n",
       "    <tr>\n",
       "      <th>4124</th>\n",
       "      <td>5329</td>\n",
       "      <td>015 (DIS)</td>\n",
       "      <td>In Person</td>\n",
       "      <td>18524</td>\n",
       "      <td>Open</td>\n",
       "      <td>25</td>\n",
       "      <td>-1</td>\n",
       "      <td>2021-11-15 06:00:00</td>\n",
       "    </tr>\n",
       "    <tr>\n",
       "      <th>4125</th>\n",
       "      <td>5329</td>\n",
       "      <td>015 (DIS)</td>\n",
       "      <td>In Person</td>\n",
       "      <td>26936</td>\n",
       "      <td>Closed</td>\n",
       "      <td>0</td>\n",
       "      <td>13</td>\n",
       "      <td>2021-12-09 19:00:00</td>\n",
       "    </tr>\n",
       "    <tr>\n",
       "      <th>4126</th>\n",
       "      <td>5330</td>\n",
       "      <td>016 (DIS)</td>\n",
       "      <td>In Person</td>\n",
       "      <td>18504</td>\n",
       "      <td>Open</td>\n",
       "      <td>25</td>\n",
       "      <td>-1</td>\n",
       "      <td>2021-11-15 06:00:00</td>\n",
       "    </tr>\n",
       "    <tr>\n",
       "      <th>4127</th>\n",
       "      <td>5330</td>\n",
       "      <td>016 (DIS)</td>\n",
       "      <td>In Person</td>\n",
       "      <td>26937</td>\n",
       "      <td>Closed</td>\n",
       "      <td>0</td>\n",
       "      <td>13</td>\n",
       "      <td>2021-12-09 19:00:00</td>\n",
       "    </tr>\n",
       "  </tbody>\n",
       "</table>\n",
       "<p>4128 rows × 8 columns</p>\n",
       "</div>"
      ],
      "text/plain": [
       "      Unnamed: 0    Section Instruction Mode  Class No Enroll Stat  \\\n",
       "0           3546  001 (LEC)        In Person     26932        Open   \n",
       "1           3546  002 (LEC)        In Person     15919        Open   \n",
       "2           3547  002 (LEC)        In Person     24565        Open   \n",
       "3           3547  010 (DIS)        In Person     15922      Closed   \n",
       "4           3548  011 (DIS)        In Person     22551        Open   \n",
       "...          ...        ...              ...       ...         ...   \n",
       "4123        5328  014 (DIS)        In Person     26935      Closed   \n",
       "4124        5329  015 (DIS)        In Person     18524        Open   \n",
       "4125        5329  015 (DIS)        In Person     26936      Closed   \n",
       "4126        5330  016 (DIS)        In Person     18504        Open   \n",
       "4127        5330  016 (DIS)        In Person     26937      Closed   \n",
       "\n",
       "      Open Seats  Wait List                 Hour  \n",
       "0            120         -1  2021-11-15 06:00:00  \n",
       "1              4         10  2021-12-09 19:00:00  \n",
       "2            120         -1  2021-11-15 06:00:00  \n",
       "3              0          3  2021-12-09 19:00:00  \n",
       "4             40         -1  2021-11-15 06:00:00  \n",
       "...          ...        ...                  ...  \n",
       "4123           0         13  2021-12-09 19:00:00  \n",
       "4124          25         -1  2021-11-15 06:00:00  \n",
       "4125           0         13  2021-12-09 19:00:00  \n",
       "4126          25         -1  2021-11-15 06:00:00  \n",
       "4127           0         13  2021-12-09 19:00:00  \n",
       "\n",
       "[4128 rows x 8 columns]"
      ]
     },
     "execution_count": 4,
     "metadata": {},
     "output_type": "execute_result"
    }
   ],
   "source": [
    "data = pd.read_csv(\"eecs-445.csv\")\n",
    "data"
   ]
  },
  {
   "cell_type": "code",
   "execution_count": 6,
   "id": "da32368f",
   "metadata": {},
   "outputs": [
    {
     "data": {
      "text/plain": [
       "4113    2021-12-09 19:00:00\n",
       "15      2021-12-09 19:00:00\n",
       "11      2021-12-09 19:00:00\n",
       "4104    2021-12-09 16:00:00\n",
       "4096    2021-12-09 15:00:00\n",
       "               ...         \n",
       "40      2021-11-15 10:00:00\n",
       "32      2021-11-15 09:00:00\n",
       "24      2021-11-15 08:00:00\n",
       "16      2021-11-15 07:00:00\n",
       "0       2021-11-15 06:00:00\n",
       "Name: Hour, Length: 516, dtype: object"
      ]
     },
     "execution_count": 6,
     "metadata": {},
     "output_type": "execute_result"
    }
   ],
   "source": [
    "sortedData = data.sort_values(by=['Hour'], ascending=False)\n",
    "data[data['Section']=='001 (LEC)'].sort_values(by=['Hour'], ascending=False)[\"Hour\"]"
   ]
  },
  {
   "cell_type": "code",
   "execution_count": 7,
   "id": "8c3d2795",
   "metadata": {},
   "outputs": [
    {
     "name": "stdout",
     "output_type": "stream",
     "text": [
      "<class 'pandas.core.series.Series'>\n"
     ]
    }
   ],
   "source": [
    "sortedData['Open Seats'][0] - sortedData['Open Seats'][len(data) - 0 - 1]\n",
    "print(type(sortedData[\"Open Seats\"]))"
   ]
  },
  {
   "cell_type": "code",
   "execution_count": 8,
   "id": "9d0f1d37",
   "metadata": {},
   "outputs": [
    {
     "data": {
      "text/plain": [
       "[4.48, 4.64, 1.0, 1.6, 1.6, 1.6, 1.6, 1.6, 1.6, 0.0]"
      ]
     },
     "execution_count": 8,
     "metadata": {},
     "output_type": "execute_result"
    }
   ],
   "source": [
    "# rate calculations\n",
    "sections = data['Section'].unique()\n",
    "rates = []\n",
    "for className in sections:\n",
    "    classData = data[data['Section']==className]\n",
    "    classData = classData.sort_values(by=['Hour'], ascending=False).reset_index(drop=True)\n",
    "    classData[\"Open Seats\"][len(classData) - 1]\n",
    "    rates.append((classData[\"Open Seats\"][len(classData) - 1] - classData[\"Open Seats\"][0])\n",
    "                    / 25)\n",
    "rates\n",
    "    "
   ]
  },
  {
   "cell_type": "code",
   "execution_count": 9,
   "id": "b39f58e9",
   "metadata": {},
   "outputs": [
    {
     "data": {
      "text/plain": [
       "array(['2021-12-09', '2021-12-08', '2021-12-07', '2021-12-06',\n",
       "       '2021-12-05', '2021-12-04', '2021-12-03', '2021-12-02',\n",
       "       '2021-12-01', '2021-11-30', '2021-11-29', '2021-11-28',\n",
       "       '2021-11-27', '2021-11-26', '2021-11-25', '2021-11-24',\n",
       "       '2021-11-23', '2021-11-22', '2021-11-21', '2021-11-20',\n",
       "       '2021-11-19', '2021-11-18', '2021-11-17', '2021-11-16',\n",
       "       '2021-11-15'], dtype=object)"
      ]
     },
     "execution_count": 9,
     "metadata": {},
     "output_type": "execute_result"
    }
   ],
   "source": [
    "daysList = []\n",
    "for time in data['Hour']:\n",
    "    daysList.append(time[0:10])\n",
    "days = pd.Series(daysList)\n",
    "days = days.sort_values(ascending=False).unique()\n",
    "days\n"
   ]
  },
  {
   "cell_type": "code",
   "execution_count": 42,
   "id": "e66e20e0",
   "metadata": {},
   "outputs": [
    {
     "data": {
      "text/plain": [
       "[[1.64, 2.84],\n",
       " [1.96, 2.68],\n",
       " [1.0, 0.0],\n",
       " [0.56, 1.04],\n",
       " [0.8, 0.8],\n",
       " [0.56, 1.04],\n",
       " [0.56, 1.04],\n",
       " [0.92, 0.68],\n",
       " [0.68, 0.92]]"
      ]
     },
     "execution_count": 42,
     "metadata": {},
     "output_type": "execute_result"
    }
   ],
   "source": [
    "# rate calculations\n",
    "sections = data['Section'].unique()\n",
    "rates = []\n",
    "for className in sections:\n",
    "    classData = data[data['Section']==className]\n",
    "    classData = classData.sort_values(by=['Hour'], ascending=False).reset_index(drop=True)\n",
    "    classData[\"Open Seats\"][len(classData) - 1]\n",
    "    if(len(classData) > 1) :\n",
    "     classRates = []\n",
    "     classRates.append((classData[\"Open Seats\"][len(classData) - (int)(len(classData) / 2)] - classData[\"Open Seats\"][0]) / len(days))\n",
    "     classRates.append((classData[\"Open Seats\"][len(classData) - 1] \n",
    "                        - classData[\"Open Seats\"][len(classData) - (int)(len(classData) / 2)]) / len(days))\n",
    "     rates.append(classRates)\n",
    "#     for x in range(0,24):\n",
    "#         classRates = rates.append((classData[\"Open Seats\"][len(classData) - 1] - classData[\"Open Seats\"][0])\n",
    "#                     / len(days))\n",
    "rates"
   ]
  }
 ],
 "metadata": {
  "kernelspec": {
   "display_name": "Python 3",
   "language": "python",
   "name": "python3"
  },
  "language_info": {
   "codemirror_mode": {
    "name": "ipython",
    "version": 3
   },
   "file_extension": ".py",
   "mimetype": "text/x-python",
   "name": "python",
   "nbconvert_exporter": "python",
   "pygments_lexer": "ipython3",
   "version": "3.8.8"
  }
 },
 "nbformat": 4,
 "nbformat_minor": 5
}
