{
 "cells": [
  {
   "cell_type": "code",
   "execution_count": 28,
   "id": "811ce08c",
   "metadata": {},
   "outputs": [],
   "source": [
    "import pandas as pd\n",
    "import math\n",
    "import os\n",
    "from datetime import datetime"
   ]
  },
  {
   "cell_type": "code",
   "execution_count": 34,
   "id": "38ef7649",
   "metadata": {},
   "outputs": [
    {
     "data": {
      "text/plain": [
       "Index(['Capacity', 'Available', 'Waitlist', 'PercentAvailable', 'Undergrad',\n",
       "       'Dept', 'CourseNum', 'StudyAbroad'],\n",
       "      dtype='object')"
      ]
     },
     "execution_count": 34,
     "metadata": {},
     "output_type": "execute_result"
    }
   ],
   "source": [
    "Overview = pd.read_csv('overview.csv')\n",
    "Overview.columns"
   ]
  },
  {
   "cell_type": "code",
   "execution_count": 11,
   "id": "0619c0ee",
   "metadata": {},
   "outputs": [
    {
     "data": {
      "text/html": [
       "<div>\n",
       "<style scoped>\n",
       "    .dataframe tbody tr th:only-of-type {\n",
       "        vertical-align: middle;\n",
       "    }\n",
       "\n",
       "    .dataframe tbody tr th {\n",
       "        vertical-align: top;\n",
       "    }\n",
       "\n",
       "    .dataframe thead th {\n",
       "        text-align: right;\n",
       "    }\n",
       "</style>\n",
       "<table border=\"1\" class=\"dataframe\">\n",
       "  <thead>\n",
       "    <tr style=\"text-align: right;\">\n",
       "      <th></th>\n",
       "      <th>Unnamed: 0</th>\n",
       "      <th>Section</th>\n",
       "      <th>Instruction Mode</th>\n",
       "      <th>Class No</th>\n",
       "      <th>Enroll Stat</th>\n",
       "      <th>Open Seats</th>\n",
       "      <th>Wait List</th>\n",
       "      <th>Hour</th>\n",
       "    </tr>\n",
       "  </thead>\n",
       "  <tbody>\n",
       "    <tr>\n",
       "      <th>0</th>\n",
       "      <td>3546</td>\n",
       "      <td>001 (LEC)</td>\n",
       "      <td>In Person</td>\n",
       "      <td>26932</td>\n",
       "      <td>Open</td>\n",
       "      <td>120</td>\n",
       "      <td>-1</td>\n",
       "      <td>2021-11-15 06:00:00</td>\n",
       "    </tr>\n",
       "    <tr>\n",
       "      <th>1</th>\n",
       "      <td>3546</td>\n",
       "      <td>002 (LEC)</td>\n",
       "      <td>In Person</td>\n",
       "      <td>15919</td>\n",
       "      <td>Open</td>\n",
       "      <td>4</td>\n",
       "      <td>10</td>\n",
       "      <td>2021-12-09 19:00:00</td>\n",
       "    </tr>\n",
       "    <tr>\n",
       "      <th>2</th>\n",
       "      <td>3547</td>\n",
       "      <td>002 (LEC)</td>\n",
       "      <td>In Person</td>\n",
       "      <td>24565</td>\n",
       "      <td>Open</td>\n",
       "      <td>120</td>\n",
       "      <td>-1</td>\n",
       "      <td>2021-11-15 06:00:00</td>\n",
       "    </tr>\n",
       "    <tr>\n",
       "      <th>3</th>\n",
       "      <td>3547</td>\n",
       "      <td>010 (DIS)</td>\n",
       "      <td>In Person</td>\n",
       "      <td>15922</td>\n",
       "      <td>Closed</td>\n",
       "      <td>0</td>\n",
       "      <td>3</td>\n",
       "      <td>2021-12-09 19:00:00</td>\n",
       "    </tr>\n",
       "    <tr>\n",
       "      <th>4</th>\n",
       "      <td>3548</td>\n",
       "      <td>011 (DIS)</td>\n",
       "      <td>In Person</td>\n",
       "      <td>22551</td>\n",
       "      <td>Open</td>\n",
       "      <td>40</td>\n",
       "      <td>-1</td>\n",
       "      <td>2021-11-15 06:00:00</td>\n",
       "    </tr>\n",
       "    <tr>\n",
       "      <th>...</th>\n",
       "      <td>...</td>\n",
       "      <td>...</td>\n",
       "      <td>...</td>\n",
       "      <td>...</td>\n",
       "      <td>...</td>\n",
       "      <td>...</td>\n",
       "      <td>...</td>\n",
       "      <td>...</td>\n",
       "    </tr>\n",
       "    <tr>\n",
       "      <th>4123</th>\n",
       "      <td>5328</td>\n",
       "      <td>014 (DIS)</td>\n",
       "      <td>In Person</td>\n",
       "      <td>26935</td>\n",
       "      <td>Closed</td>\n",
       "      <td>0</td>\n",
       "      <td>13</td>\n",
       "      <td>2021-12-09 19:00:00</td>\n",
       "    </tr>\n",
       "    <tr>\n",
       "      <th>4124</th>\n",
       "      <td>5329</td>\n",
       "      <td>015 (DIS)</td>\n",
       "      <td>In Person</td>\n",
       "      <td>18524</td>\n",
       "      <td>Open</td>\n",
       "      <td>25</td>\n",
       "      <td>-1</td>\n",
       "      <td>2021-11-15 06:00:00</td>\n",
       "    </tr>\n",
       "    <tr>\n",
       "      <th>4125</th>\n",
       "      <td>5329</td>\n",
       "      <td>015 (DIS)</td>\n",
       "      <td>In Person</td>\n",
       "      <td>26936</td>\n",
       "      <td>Closed</td>\n",
       "      <td>0</td>\n",
       "      <td>13</td>\n",
       "      <td>2021-12-09 19:00:00</td>\n",
       "    </tr>\n",
       "    <tr>\n",
       "      <th>4126</th>\n",
       "      <td>5330</td>\n",
       "      <td>016 (DIS)</td>\n",
       "      <td>In Person</td>\n",
       "      <td>18504</td>\n",
       "      <td>Open</td>\n",
       "      <td>25</td>\n",
       "      <td>-1</td>\n",
       "      <td>2021-11-15 06:00:00</td>\n",
       "    </tr>\n",
       "    <tr>\n",
       "      <th>4127</th>\n",
       "      <td>5330</td>\n",
       "      <td>016 (DIS)</td>\n",
       "      <td>In Person</td>\n",
       "      <td>26937</td>\n",
       "      <td>Closed</td>\n",
       "      <td>0</td>\n",
       "      <td>13</td>\n",
       "      <td>2021-12-09 19:00:00</td>\n",
       "    </tr>\n",
       "  </tbody>\n",
       "</table>\n",
       "<p>4128 rows × 8 columns</p>\n",
       "</div>"
      ],
      "text/plain": [
       "      Unnamed: 0    Section Instruction Mode  Class No Enroll Stat  \\\n",
       "0           3546  001 (LEC)        In Person     26932        Open   \n",
       "1           3546  002 (LEC)        In Person     15919        Open   \n",
       "2           3547  002 (LEC)        In Person     24565        Open   \n",
       "3           3547  010 (DIS)        In Person     15922      Closed   \n",
       "4           3548  011 (DIS)        In Person     22551        Open   \n",
       "...          ...        ...              ...       ...         ...   \n",
       "4123        5328  014 (DIS)        In Person     26935      Closed   \n",
       "4124        5329  015 (DIS)        In Person     18524        Open   \n",
       "4125        5329  015 (DIS)        In Person     26936      Closed   \n",
       "4126        5330  016 (DIS)        In Person     18504        Open   \n",
       "4127        5330  016 (DIS)        In Person     26937      Closed   \n",
       "\n",
       "      Open Seats  Wait List                 Hour  \n",
       "0            120         -1  2021-11-15 06:00:00  \n",
       "1              4         10  2021-12-09 19:00:00  \n",
       "2            120         -1  2021-11-15 06:00:00  \n",
       "3              0          3  2021-12-09 19:00:00  \n",
       "4             40         -1  2021-11-15 06:00:00  \n",
       "...          ...        ...                  ...  \n",
       "4123           0         13  2021-12-09 19:00:00  \n",
       "4124          25         -1  2021-11-15 06:00:00  \n",
       "4125           0         13  2021-12-09 19:00:00  \n",
       "4126          25         -1  2021-11-15 06:00:00  \n",
       "4127           0         13  2021-12-09 19:00:00  \n",
       "\n",
       "[4128 rows x 8 columns]"
      ]
     },
     "execution_count": 11,
     "metadata": {},
     "output_type": "execute_result"
    }
   ],
   "source": [
    "data = pd.read_csv(\"eecs-445.csv\")\n",
    "data"
   ]
  },
  {
   "cell_type": "code",
   "execution_count": 12,
   "id": "74e60ce0",
   "metadata": {},
   "outputs": [],
   "source": [
    "# there's a chance this would be faster if we just \n",
    "    # calculated all past rates for all classes one time\n",
    "    # instead of everytime the scrapper ran\n",
    "# also I'm dividing by the number of days from last time here (25)\n",
    "# Separating rates thoughts\n",
    "    # I'd probably add a time parameter then calculate days since the registration opened\n",
    "    # And then find the rate for some period around that day (consider egde cases)\n",
    "    # predicted_rate() would also need a time parameter\n",
    "    # predicted_final_day would probably need a loop to working back thru predicted_rate() outputs\n",
    "        # from the 25th day or something until it hits a predicted postive \"Open Seats\"\n",
    "def past_rate(sectionNumber, pastData) :\n",
    "    classData = pastData[pastData['Class No']==sectionNumber]\n",
    "    # this might be faster if we only sorted this once\n",
    "    classData = classData.sort_values(by=['Hour'], ascending=False).reset_index(drop=True)\n",
    "    days = 25\n",
    "    return (classData[\"Open Seats\"][len(classData) - 1] - classData[\"Open Seats\"][0]) / days\n",
    "    "
   ]
  },
  {
   "cell_type": "code",
   "execution_count": 13,
   "id": "1e957633",
   "metadata": {},
   "outputs": [],
   "source": [
    "def current_rate(sectionNumber, currentData) :\n",
    "    classData = currentData[currentData['Class No']==sectionNumber].sort_values(by=['Hour'], ascending=False).reset_index(drop=True)\n",
    "    daysList = []\n",
    "    for time in currentData['Hour']:\n",
    "        daysList.append(time[0:10])\n",
    "    days = pd.Series(daysList).unique()\n",
    "    return (classData[\"Open Seats\"][len(classData) - 1] - classData[\"Open Seats\"][0]) / len(days)"
   ]
  },
  {
   "cell_type": "code",
   "execution_count": 14,
   "id": "a16e7359",
   "metadata": {},
   "outputs": [
    {
     "data": {
      "text/plain": [
       "4.48"
      ]
     },
     "execution_count": 14,
     "metadata": {},
     "output_type": "execute_result"
    }
   ],
   "source": [
    "current_rate(26932, data)"
   ]
  },
  {
   "cell_type": "code",
   "execution_count": 15,
   "id": "55efa39b",
   "metadata": {},
   "outputs": [],
   "source": [
    " def predicted_rate(sectionNumber, pastData, currentData) :\n",
    "    # idk if this formula actually makes sense but meh\n",
    "    daysList = []\n",
    "    for time in currentData['Hour']:\n",
    "        daysList.append(time[0:10])\n",
    "    days = pd.Series(daysList).unique()\n",
    "    # potential formula to make current rate count more over time\n",
    "        # this formula definity won't work for incoming freshman but we can't really predict\n",
    "    return (current_rate(sectionNumber, currentData)*len(days) / 25) + (past_rate(sectionNumber, pastData)*(25 - len(days)) / 25)"
   ]
  },
  {
   "cell_type": "code",
   "execution_count": 20,
   "id": "5148a3f8",
   "metadata": {},
   "outputs": [
    {
     "data": {
      "text/plain": [
       "4.48"
      ]
     },
     "execution_count": 20,
     "metadata": {},
     "output_type": "execute_result"
    }
   ],
   "source": [
    "predicted_rate(26932, data, data)"
   ]
  },
  {
   "cell_type": "code",
   "execution_count": 18,
   "id": "971ca9c4",
   "metadata": {},
   "outputs": [],
   "source": [
    "def predicted_final_day(sectionNumber, pastData, currentData) :    \n",
    "    classData = currentData[currentData['Class No']==sectionNumber]\n",
    "    classData = classData.sort_values(by=['Hour'], ascending=False).reset_index(drop=True)\n",
    "    rate = predicted_rate(sectionNumber, pastData, currentData)\n",
    "    daysList = []\n",
    "    for time in currentData['Hour'] :\n",
    "        daysList.append(time[0:10])\n",
    "    days = pd.Series(daysList).unique()\n",
    "    if rate > 0 :\n",
    "        days_till_closing = classData[\"Open Seats\"][len(classData) - 1] / rate\n",
    "    else :\n",
    "        days_till_closing = 0\n",
    "    return days[len(days) - 1 - math.floor(days_till_closing)]"
   ]
  },
  {
   "cell_type": "code",
   "execution_count": 19,
   "id": "2c965e21",
   "metadata": {},
   "outputs": [
    {
     "data": {
      "text/plain": [
       "'2021-12-07'"
      ]
     },
     "execution_count": 19,
     "metadata": {},
     "output_type": "execute_result"
    }
   ],
   "source": [
    "predicted_final_day(26932, data, data)"
   ]
  },
  {
   "cell_type": "code",
   "execution_count": 33,
   "id": "0668d98a",
   "metadata": {},
   "outputs": [
    {
     "data": {
      "text/plain": [
       "datetime.timedelta(seconds=3600)"
      ]
     },
     "execution_count": 33,
     "metadata": {},
     "output_type": "execute_result"
    }
   ],
   "source": [
    "# # Scraper output\n",
    "# os.makedirs(\"./output/\", exist_ok=True)\n",
    "#     for (course, listing) in df.groupby(\"Course\").groups.items():\n",
    "#         df.loc[\n",
    "#             listing,\n",
    "#             [\n",
    "#                 \"Section\",\n",
    "#                 \"Instruction Mode\",\n",
    "#                 \"Class No\",\n",
    "#                 \"Enroll Stat\",\n",
    "#                 \"Open Seats\",\n",
    "#                 \"Wait List\",\n",
    "#                 \"Hour\",\n",
    "#             ],\n",
    "#         ].to_csv(f\"./output/{slugify(course)}.csv\")\n",
    "date1 = datetime.strptime('2021-12-09 20:00:00', '%Y-%m-%d %H:%M:%S')\n",
    "date2 = datetime.strptime('2021-12-09 19:00:00', '%Y-%m-%d %H:%M:%S')\n",
    "date1 - date2\n",
    "def output(pastData) :\n",
    "    classInfo = pastData[[\"Section\", \"Instruction Mode\", \"Class No\", \"Enroll Stat\"]]\n",
    "    # we'll probably wanna add an all zero \"waitlist\" column or something to classInfo\n",
    "    # loop through remaining hours : \n",
    "        # loop through \"Class No\", calculate remaining using above fcns \"Open Seats\"\n",
    "        # join classInfo to the open seats calculation result\n",
    "        # export"
   ]
  }
 ],
 "metadata": {
  "kernelspec": {
   "display_name": "Python 3",
   "language": "python",
   "name": "python3"
  },
  "language_info": {
   "codemirror_mode": {
    "name": "ipython",
    "version": 3
   },
   "file_extension": ".py",
   "mimetype": "text/x-python",
   "name": "python",
   "nbconvert_exporter": "python",
   "pygments_lexer": "ipython3",
   "version": "3.8.8"
  }
 },
 "nbformat": 4,
 "nbformat_minor": 5
}
